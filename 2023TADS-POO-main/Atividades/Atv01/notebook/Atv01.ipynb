{
 "cells": [
  {
   "cell_type": "markdown",
   "id": "a49e99d1-9f68-40a8-a286-903f2fd2251b",
   "metadata": {},
   "source": [
    "# Atv01"
   ]
  },
  {
   "cell_type": "markdown",
   "id": "2f43b1b3-44a5-4b52-81b9-1b57ace64201",
   "metadata": {},
   "source": [
    "Apresente a soma de todos os argumentos inteiros ou reais recebidos"
   ]
  },
  {
   "cell_type": "code",
   "execution_count": null,
   "id": "4d1aa8ae-5b25-4e64-b302-407522e905f9",
   "metadata": {},
   "outputs": [
    {
     "name": "stdout",
     "output_type": "stream",
     "text": [
      "Digite valores para a soma: \n",
      "Valor de parada é 0\n"
     ]
    }
   ],
   "source": [
    "import java.util.*; // importando biblioteca\n",
    "\n",
    "Scanner sc = new Scanner(System.in); // criando objeto scanner\n",
    "\n",
    "double soma = 0; // inicializando variável\n",
    "double valor = 1; // inicializando variável\n",
    "\n",
    "System.out.println(\"Digite valores para a soma: \"); // mensagem de aviso\n",
    "System.out.println(\"Valor de parada é 0\"); // mensagem de aviso\n",
    "\n",
    "while (valor != 0); {\n",
    "    try {\n",
    "        valor = sc.nextDouble(); // recebe valor\n",
    "        soma += valor; // somando valor ao somatório\n",
    "    } catch (java.util.InputMismatchException e) { // erro de entrada do scanner\n",
    "        valor = 0;\n",
    "        break;\n",
    "    }\n",
    "} \n",
    "\n",
    "System.out.println(\"Somatório é: \" + soma);\n",
    "sc.close();"
   ]
  }
 ],
 "metadata": {
  "kernelspec": {
   "display_name": "Java",
   "language": "java",
   "name": "java"
  },
  "language_info": {
   "codemirror_mode": "java",
   "file_extension": ".jshell",
   "mimetype": "text/x-java-source",
   "name": "Java",
   "pygments_lexer": "java",
   "version": "19.0.2+7-44"
  }
 },
 "nbformat": 4,
 "nbformat_minor": 5
}
